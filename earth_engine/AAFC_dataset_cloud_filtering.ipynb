{
 "cells": [
  {
   "cell_type": "code",
   "execution_count": 1,
   "id": "f321dc65",
   "metadata": {},
   "outputs": [],
   "source": [
    "# Creation of a Sentinel-2 Canadian Dataset\n",
    "#\n",
    "# Note: before running this code, create a new conda env named : gee\n",
    "# \n",
    "# conda install -c anaconda pandas\n",
    "# conda install -c conda-forge pysimplegui\n",
    "# conda install openpyxl\n",
    "# conda install -c conda-forge earthengine-api\n",
    "# conda install -c conda-forge folium\n",
    "#\n",
    "# Then, authenticate yourself to Google Eeath Engine\n",
    "# earthengine authenticate\n",
    "# Inspiration: https://climada-python.readthedocs.io/en/stable/tutorial/climada_util_earth_engine.html\n",
    "# and https://colab.research.google.com/github/google/earthengine-community/blob/master/tutorials/sentinel-2-s2cloudless/index.ipynb#scrollTo=tCRB28UkJJjp \n",
    "\n",
    "# Amanda Boatswain Jacques / Etienne Lord\n",
    "# Since 20 March 2021"
   ]
  },
  {
   "cell_type": "code",
   "execution_count": 2,
   "id": "b46c9531",
   "metadata": {},
   "outputs": [],
   "source": [
    "from datetime import datetime\n",
    "import pandas as pd\n",
    "import folium\n",
    "import webbrowser\n",
    "import ee\n",
    "import PySimpleGUI as sg\n",
    "import sys\n",
    "import os"
   ]
  },
  {
   "cell_type": "markdown",
   "id": "5bc55f16",
   "metadata": {},
   "source": [
    "#### RUN ME FIRST "
   ]
  },
  {
   "cell_type": "code",
   "execution_count": null,
   "id": "ad6081b6",
   "metadata": {},
   "outputs": [],
   "source": [
    "# Trigger the authentication flow.\n",
    "ee.Authenticate()\n",
    "\n",
    "# Initialize the library.\n",
    "ee.Initialize()"
   ]
  },
  {
   "cell_type": "markdown",
   "id": "9c575faa",
   "metadata": {},
   "source": [
    "The following code was retrieved and tweaked from this official Earth Engine community tutorial: https://colab.research.google.com/github/google/earthengine-community/blob/master/tutorials/sentinel-2-s2cloudless/index.ipynb#scrollTo=tCRB28UkJJjp "
   ]
  },
  {
   "cell_type": "markdown",
   "id": "d7403f56",
   "metadata": {},
   "source": [
    "### Define collection filter and cloud mask parameters\n",
    "\n",
    "Define parameters that are used to filter the S2 image collection and determine cloud and cloud shadow identification.\n",
    "\n",
    "|Parameter | Type | Description |\n",
    "| :-- | :-- | :-- |\n",
    "| `AOI` | `ee.Geometry` | Area of interest |\n",
    "| `START_DATE` | string | Image collection start date (inclusive) |\n",
    "| `END_DATE` | string | Image collection end date (exclusive) |\n",
    "| `CLOUD_FILTER` | integer | Maximum image cloud cover percent allowed in image collection |\n",
    "| `CLD_PRB_THRESH` | integer | Cloud probability (%); values greater than are considered cloud |\n",
    "| `NIR_DRK_THRESH` | float | Near-infrared reflectance; values less than are considered potential cloud shadow |\n",
    "| `CLD_PRJ_DIST` | float | Maximum distance (km) to search for cloud shadows from cloud edges |\n",
    "| `BUFFER` | integer | Distance (m) to dilate the edge of cloud-identified objects |"
   ]
  },
  {
   "cell_type": "code",
   "execution_count": 4,
   "id": "75234a32",
   "metadata": {},
   "outputs": [],
   "source": [
    "# Set the thresholds that will be used to build the cloud/shadow mask \n",
    "CLOUD_FILTER = 60\n",
    "CLD_PRB_THRESH = 40\n",
    "NIR_DRK_THRESH = 0.15\n",
    "CLD_PRJ_DIST = 2\n",
    "BUFFER = 100"
   ]
  },
  {
   "cell_type": "markdown",
   "id": "0665e7e0",
   "metadata": {},
   "source": [
    "## Useful Functions "
   ]
  },
  {
   "cell_type": "markdown",
   "id": "c5633801",
   "metadata": {},
   "source": [
    "### Build a Sentinel-2 collection\n",
    "\n",
    "Combine the Sentinel-2 Surface Reflectance and Cloud probability image collections using the assigned date and bounds \n",
    "\n",
    "Define a function to filter the SR and s2cloudless collections according to area of interest and date parameters, then join them on the `system:index` property. The result is a copy of the SR collection where each image has a new `'s2cloudless'` property whose value is the corresponding s2cloudless image."
   ]
  },
  {
   "cell_type": "code",
   "execution_count": 5,
   "id": "3197570f",
   "metadata": {},
   "outputs": [],
   "source": [
    "def get_s2_sr_cld_col(aoi, start_date, end_date):\n",
    "    # Import and filter S2 SR.\n",
    "    s2_sr_col = (ee.ImageCollection('COPERNICUS/S2_SR')\n",
    "        .filterBounds(aoi)\n",
    "        .filterDate(start_date, end_date)\n",
    "        .filter(ee.Filter.lte('CLOUDY_PIXEL_PERCENTAGE', CLOUD_FILTER)))\n",
    "\n",
    "    # Import and filter s2cloudless.\n",
    "    s2_cloudless_col = (ee.ImageCollection('COPERNICUS/S2_CLOUD_PROBABILITY')\n",
    "        .filterBounds(aoi)\n",
    "        .filterDate(start_date, end_date))\n",
    "\n",
    "    # Join the filtered s2cloudless collection to the SR collection by the 'system:index' property.\n",
    "    return ee.ImageCollection(ee.Join.saveFirst('s2cloudless').apply(**{\n",
    "        'primary': s2_sr_col,\n",
    "        'secondary': s2_cloudless_col,\n",
    "        'condition': ee.Filter.equals(**{\n",
    "            'leftField': 'system:index',\n",
    "            'rightField': 'system:index'\n",
    "        })\n",
    "    }))"
   ]
  },
  {
   "cell_type": "markdown",
   "id": "2660d08a",
   "metadata": {},
   "source": [
    "### Cloud and Shadow Masking"
   ]
  },
  {
   "cell_type": "markdown",
   "id": "de0072f5",
   "metadata": {},
   "source": [
    "#### Cloud components\n",
    "\n",
    "Define a function to add the s2cloudless probability layer and derived cloud mask as bands to an S2 SR image input."
   ]
  },
  {
   "cell_type": "code",
   "execution_count": 6,
   "id": "03e57b5b",
   "metadata": {},
   "outputs": [],
   "source": [
    "def add_cloud_bands(img):\n",
    "    # Get s2cloudless image, subset the probability band.\n",
    "    cld_prb = ee.Image(img.get('s2cloudless')).select('probability')\n",
    "\n",
    "    # Condition s2cloudless by the probability threshold value.\n",
    "    is_cloud = cld_prb.gt(CLD_PRB_THRESH).rename('clouds')\n",
    "\n",
    "    # Add the cloud probability layer and cloud mask as image bands.\n",
    "    return img.addBands(ee.Image([cld_prb, is_cloud]))"
   ]
  },
  {
   "cell_type": "markdown",
   "id": "c66eb021",
   "metadata": {},
   "source": [
    "#### Cloud shadow components\n",
    "\n",
    "Define a function to add dark pixels, cloud projection, and identified shadows as bands to an S2 SR image input. Note that the image input needs to be the result of the above `add_cloud_bands` function because it relies on knowing which pixels are considered cloudy (`'clouds'` band)."
   ]
  },
  {
   "cell_type": "code",
   "execution_count": 7,
   "id": "d01001ff",
   "metadata": {},
   "outputs": [],
   "source": [
    "def add_shadow_bands(img):\n",
    "    # Identify water pixels from the SCL band.\n",
    "    not_water = img.select('SCL').neq(6)\n",
    "\n",
    "    # Identify dark NIR pixels that are not water (potential cloud shadow pixels).\n",
    "    SR_BAND_SCALE = 1e4\n",
    "    dark_pixels = img.select('B8').lt(NIR_DRK_THRESH*SR_BAND_SCALE).multiply(not_water).rename('dark_pixels')\n",
    "\n",
    "    # Determine the direction to project cloud shadow from clouds (assumes UTM projection).\n",
    "    shadow_azimuth = ee.Number(90).subtract(ee.Number(img.get('MEAN_SOLAR_AZIMUTH_ANGLE')));\n",
    "\n",
    "    # Project shadows from clouds for the distance specified by the CLD_PRJ_DIST input.\n",
    "    cld_proj = (img.select('clouds').directionalDistanceTransform(shadow_azimuth, CLD_PRJ_DIST*10)\n",
    "        .reproject(**{'crs':'EPSG:3978', 'scale': 100})\n",
    "        .select('distance')\n",
    "        .mask()\n",
    "        .rename('cloud_transform'))\n",
    "\n",
    "    # Identify the intersection of dark pixels with cloud shadow projection.\n",
    "    shadows = cld_proj.multiply(dark_pixels).rename('shadows')\n",
    "\n",
    "    # Add dark pixels, cloud projection, and identified shadows as image bands.\n",
    "    return img.addBands(ee.Image([dark_pixels, cld_proj, shadows]))"
   ]
  },
  {
   "cell_type": "markdown",
   "id": "c742b894",
   "metadata": {},
   "source": [
    "#### Final cloud-shadow mask\n",
    "\n",
    "Define a function to assemble all of the cloud and cloud shadow components and produce the final mask."
   ]
  },
  {
   "cell_type": "code",
   "execution_count": 8,
   "id": "de7941a9",
   "metadata": {},
   "outputs": [],
   "source": [
    "def add_cld_shdw_mask(img):\n",
    "    # Add cloud component bands.\n",
    "    img_cloud = add_cloud_bands(img)\n",
    "\n",
    "    # Add cloud shadow component bands.\n",
    "    img_cloud_shadow = add_shadow_bands(img_cloud)\n",
    "\n",
    "    # Combine cloud and shadow mask, set cloud and shadow as value 1, else 0.\n",
    "    is_cld_shdw = img_cloud_shadow.select('clouds').add(img_cloud_shadow.select('shadows')).gt(0)\n",
    "\n",
    "    # Remove small cloud-shadow patches and dilate remaining pixels by BUFFER input.\n",
    "    # 20 m scale is for speed, and assumes clouds don't require 10 m precision.\n",
    "    is_cld_shdw = (is_cld_shdw.focal_min(2).focal_max(BUFFER*2/20)\n",
    "        .reproject(**{'crs': 'EPSG:3978', 'scale': 20})\n",
    "        .rename('cloudmask'))\n",
    "\n",
    "    # Add the final cloud-shadow mask to the image.\n",
    "    return img.addBands(is_cld_shdw)"
   ]
  },
  {
   "cell_type": "markdown",
   "id": "79cd752f",
   "metadata": {},
   "source": [
    "### Define cloud mask application function\n",
    "\n",
    "Define a function to apply the cloud mask to each image in the collection."
   ]
  },
  {
   "cell_type": "code",
   "execution_count": 9,
   "id": "ac8ba5fc",
   "metadata": {},
   "outputs": [],
   "source": [
    "def apply_cld_shdw_mask(img):\n",
    "    # Subset the cloudmask band and invert it so clouds/shadow are 0, else 1.\n",
    "    not_cld_shdw = img.select('cloudmask').Not()\n",
    "\n",
    "    # Subset reflectance bands and update their masks, return the result.\n",
    "    return img.select('B.*').updateMask(not_cld_shdw)"
   ]
  },
  {
   "cell_type": "markdown",
   "id": "a8ff27b9",
   "metadata": {},
   "source": [
    "### Visualize the results"
   ]
  },
  {
   "cell_type": "code",
   "execution_count": 10,
   "id": "646986dc",
   "metadata": {},
   "outputs": [],
   "source": [
    "# Define a method for displaying Earth Engine image tiles to a folium map.\n",
    "def add_ee_layer(self, ee_image_object, vis_params, name, show=True, opacity=1, min_zoom=0):\n",
    "    map_id_dict = ee.Image(ee_image_object).getMapId(vis_params)\n",
    "    folium.raster_layers.TileLayer(\n",
    "        tiles=map_id_dict['tile_fetcher'].url_format,\n",
    "        attr='Map Data &copy; <a href=\"https://earthengine.google.com/\">Google Earth Engine</a>',\n",
    "        name=name,\n",
    "        show=show,\n",
    "        opacity=opacity,\n",
    "        min_zoom=min_zoom,\n",
    "        overlay=True,\n",
    "        control=True\n",
    "        ).add_to(self)\n",
    "\n",
    "# Add the Earth Engine layer method to folium.\n",
    "folium.Map.add_ee_layer = add_ee_layer"
   ]
  },
  {
   "cell_type": "markdown",
   "id": "4e399117",
   "metadata": {},
   "source": [
    "#### Create ROI  Square\n",
    "Extract the region of interest (ROI) by creating a 64 x 64 pixel square around each point of interest. "
   ]
  },
  {
   "cell_type": "code",
   "execution_count": 11,
   "id": "4d57e49d",
   "metadata": {},
   "outputs": [],
   "source": [
    "# Create a rectangle region using EPSG:3978, radius in meters, point is Lat, Long\n",
    "def makeRectangle(point, xRadius=320, yRadius=320):\n",
    "    proj = 'EPSG:3978';\n",
    "    pointLatLon = ee.Geometry.Point(point);\n",
    "    pointMeters = pointLatLon.transform(proj, 0.001);\n",
    "    coords = pointMeters.coordinates();\n",
    "    minX = ee.Number(coords.get(0)).subtract(xRadius);\n",
    "    minY = ee.Number(coords.get(1)).subtract(yRadius);\n",
    "    maxX = ee.Number(coords.get(0)).add(xRadius);\n",
    "    maxY = ee.Number(coords.get(1)).add(yRadius);\n",
    "    rect = ee.Geometry.Rectangle([minX, minY, maxX, maxY], proj, False);\n",
    "    return rect;"
   ]
  },
  {
   "cell_type": "code",
   "execution_count": 12,
   "id": "140b3bcd",
   "metadata": {},
   "outputs": [],
   "source": [
    "# Select 5 points in the .csv sheet for a test \n",
    "points = [(0, \"Ontario\", \"ON\", \"corn\", 147, -77.32844954, 44.27797623),\n",
    "          (1, \"Ontario\", \"ON\", \"corn\", 147, -77.37852316, 44.30095457),\n",
    "          (2, \"Quebec\", \"QC\", \"corn\", 147, -75.00974578, 45.16622162),\n",
    "          (3, \"Quebec\", \"QC\", \"corn\", 147, -74.99369555, 45.14719366), \n",
    "          (4, \"Quebec\", \"QC\", \"corn\", 147, -74.44633007, 45.22942979)]"
   ]
  },
  {
   "cell_type": "code",
   "execution_count": 13,
   "id": "2ed35369",
   "metadata": {},
   "outputs": [],
   "source": [
    "# Create a list of seasons to iterate over \n",
    "time_intervals = [(\"2019-06-01\",\"2019-06-30\"), (\"2019-07-01\",\"2019-07-31\"), \n",
    "                  (\"2019-08-01\",\"2019-08-31\"), (\"2019-09-01\",\"2019-09-30\"),\n",
    "                  (\"2019-10-01\",\"2019-10-31\")]"
   ]
  },
  {
   "cell_type": "markdown",
   "id": "1363914a",
   "metadata": {},
   "source": [
    "#### Create an image collection for a given point and all time intervals. "
   ]
  },
  {
   "cell_type": "markdown",
   "id": "04b44e61",
   "metadata": {},
   "source": [
    "#### Process the collection\n",
    "Add the created masked and original layers to the final map for a point. Add cloud and cloud shadow component bands to each image and then apply the mask to each image. "
   ]
  },
  {
   "cell_type": "code",
   "execution_count": 20,
   "id": "340330ef",
   "metadata": {},
   "outputs": [
    {
     "name": "stdout",
     "output_type": "stream",
     "text": [
      "(0, 'Ontario', 'ON', 'corn', 147, -77.32844954, 44.27797623)\n",
      "('2019-06-01', '2019-06-30')\n",
      "('2019-07-01', '2019-07-31')\n",
      "('2019-08-01', '2019-08-31')\n",
      "('2019-09-01', '2019-09-30')\n",
      "('2019-10-01', '2019-10-31')\n",
      "(1, 'Ontario', 'ON', 'corn', 147, -77.37852316, 44.30095457)\n",
      "('2019-06-01', '2019-06-30')\n",
      "('2019-07-01', '2019-07-31')\n",
      "('2019-08-01', '2019-08-31')\n",
      "('2019-09-01', '2019-09-30')\n",
      "('2019-10-01', '2019-10-31')\n",
      "(2, 'Quebec', 'QC', 'corn', 147, -75.00974578, 45.16622162)\n",
      "('2019-06-01', '2019-06-30')\n",
      "('2019-07-01', '2019-07-31')\n",
      "('2019-08-01', '2019-08-31')\n",
      "('2019-09-01', '2019-09-30')\n",
      "('2019-10-01', '2019-10-31')\n",
      "(3, 'Quebec', 'QC', 'corn', 147, -74.99369555, 45.14719366)\n",
      "('2019-06-01', '2019-06-30')\n",
      "('2019-07-01', '2019-07-31')\n",
      "('2019-08-01', '2019-08-31')\n",
      "('2019-09-01', '2019-09-30')\n",
      "('2019-10-01', '2019-10-31')\n",
      "(4, 'Quebec', 'QC', 'corn', 147, -74.44633007, 45.22942979)\n",
      "('2019-06-01', '2019-06-30')\n",
      "('2019-07-01', '2019-07-31')\n",
      "('2019-08-01', '2019-08-31')\n",
      "('2019-09-01', '2019-09-30')\n",
      "('2019-10-01', '2019-10-31')\n"
     ]
    },
    {
     "data": {
      "text/html": [
       "<div style=\"width:100%;\"><div style=\"position:relative;width:100%;height:0;padding-bottom:60%;\"><span style=\"color:#565656\">Make this Notebook Trusted to load map: File -> Trust Notebook</span><iframe src=\"about:blank\" style=\"position:absolute;width:100%;height:100%;left:0;top:0;border:none !important;\" data-html=%3C%21DOCTYPE%20html%3E%0A%3Chead%3E%20%20%20%20%0A%20%20%20%20%3Cmeta%20http-equiv%3D%22content-type%22%20content%3D%22text/html%3B%20charset%3DUTF-8%22%20/%3E%0A%20%20%20%20%0A%20%20%20%20%20%20%20%20%3Cscript%3E%0A%20%20%20%20%20%20%20%20%20%20%20%20L_NO_TOUCH%20%3D%20false%3B%0A%20%20%20%20%20%20%20%20%20%20%20%20L_DISABLE_3D%20%3D%20false%3B%0A%20%20%20%20%20%20%20%20%3C/script%3E%0A%20%20%20%20%0A%20%20%20%20%3Cstyle%3Ehtml%2C%20body%20%7Bwidth%3A%20100%25%3Bheight%3A%20100%25%3Bmargin%3A%200%3Bpadding%3A%200%3B%7D%3C/style%3E%0A%20%20%20%20%3Cstyle%3E%23map%20%7Bposition%3Aabsolute%3Btop%3A0%3Bbottom%3A0%3Bright%3A0%3Bleft%3A0%3B%7D%3C/style%3E%0A%20%20%20%20%3Cscript%20src%3D%22https%3A//cdn.jsdelivr.net/npm/leaflet%401.6.0/dist/leaflet.js%22%3E%3C/script%3E%0A%20%20%20%20%3Cscript%20src%3D%22https%3A//code.jquery.com/jquery-1.12.4.min.js%22%3E%3C/script%3E%0A%20%20%20%20%3Cscript%20src%3D%22https%3A//maxcdn.bootstrapcdn.com/bootstrap/3.2.0/js/bootstrap.min.js%22%3E%3C/script%3E%0A%20%20%20%20%3Cscript%20src%3D%22https%3A//cdnjs.cloudflare.com/ajax/libs/Leaflet.awesome-markers/2.0.2/leaflet.awesome-markers.js%22%3E%3C/script%3E%0A%20%20%20%20%3Clink%20rel%3D%22stylesheet%22%20href%3D%22https%3A//cdn.jsdelivr.net/npm/leaflet%401.6.0/dist/leaflet.css%22/%3E%0A%20%20%20%20%3Clink%20rel%3D%22stylesheet%22%20href%3D%22https%3A//maxcdn.bootstrapcdn.com/bootstrap/3.2.0/css/bootstrap.min.css%22/%3E%0A%20%20%20%20%3Clink%20rel%3D%22stylesheet%22%20href%3D%22https%3A//maxcdn.bootstrapcdn.com/bootstrap/3.2.0/css/bootstrap-theme.min.css%22/%3E%0A%20%20%20%20%3Clink%20rel%3D%22stylesheet%22%20href%3D%22https%3A//maxcdn.bootstrapcdn.com/font-awesome/4.6.3/css/font-awesome.min.css%22/%3E%0A%20%20%20%20%3Clink%20rel%3D%22stylesheet%22%20href%3D%22https%3A//cdnjs.cloudflare.com/ajax/libs/Leaflet.awesome-markers/2.0.2/leaflet.awesome-markers.css%22/%3E%0A%20%20%20%20%3Clink%20rel%3D%22stylesheet%22%20href%3D%22https%3A//cdn.jsdelivr.net/gh/python-visualization/folium/folium/templates/leaflet.awesome.rotate.min.css%22/%3E%0A%20%20%20%20%0A%20%20%20%20%20%20%20%20%20%20%20%20%3Cmeta%20name%3D%22viewport%22%20content%3D%22width%3Ddevice-width%2C%0A%20%20%20%20%20%20%20%20%20%20%20%20%20%20%20%20initial-scale%3D1.0%2C%20maximum-scale%3D1.0%2C%20user-scalable%3Dno%22%20/%3E%0A%20%20%20%20%20%20%20%20%20%20%20%20%3Cstyle%3E%0A%20%20%20%20%20%20%20%20%20%20%20%20%20%20%20%20%23map_cdb3b62178da49338c6dc12639389280%20%7B%0A%20%20%20%20%20%20%20%20%20%20%20%20%20%20%20%20%20%20%20%20position%3A%20relative%3B%0A%20%20%20%20%20%20%20%20%20%20%20%20%20%20%20%20%20%20%20%20width%3A%20100.0%25%3B%0A%20%20%20%20%20%20%20%20%20%20%20%20%20%20%20%20%20%20%20%20height%3A%20100.0%25%3B%0A%20%20%20%20%20%20%20%20%20%20%20%20%20%20%20%20%20%20%20%20left%3A%200.0%25%3B%0A%20%20%20%20%20%20%20%20%20%20%20%20%20%20%20%20%20%20%20%20top%3A%200.0%25%3B%0A%20%20%20%20%20%20%20%20%20%20%20%20%20%20%20%20%7D%0A%20%20%20%20%20%20%20%20%20%20%20%20%3C/style%3E%0A%20%20%20%20%20%20%20%20%0A%3C/head%3E%0A%3Cbody%3E%20%20%20%20%0A%20%20%20%20%0A%20%20%20%20%20%20%20%20%20%20%20%20%3Cdiv%20class%3D%22folium-map%22%20id%3D%22map_cdb3b62178da49338c6dc12639389280%22%20%3E%3C/div%3E%0A%20%20%20%20%20%20%20%20%0A%3C/body%3E%0A%3Cscript%3E%20%20%20%20%0A%20%20%20%20%0A%20%20%20%20%20%20%20%20%20%20%20%20var%20map_cdb3b62178da49338c6dc12639389280%20%3D%20L.map%28%0A%20%20%20%20%20%20%20%20%20%20%20%20%20%20%20%20%22map_cdb3b62178da49338c6dc12639389280%22%2C%0A%20%20%20%20%20%20%20%20%20%20%20%20%20%20%20%20%7B%0A%20%20%20%20%20%20%20%20%20%20%20%20%20%20%20%20%20%20%20%20center%3A%20%5B-74.44633007%2C%2045.22942979%5D%2C%0A%20%20%20%20%20%20%20%20%20%20%20%20%20%20%20%20%20%20%20%20crs%3A%20L.CRS.EPSG3857%2C%0A%20%20%20%20%20%20%20%20%20%20%20%20%20%20%20%20%20%20%20%20zoom%3A%2014%2C%0A%20%20%20%20%20%20%20%20%20%20%20%20%20%20%20%20%20%20%20%20zoomControl%3A%20true%2C%0A%20%20%20%20%20%20%20%20%20%20%20%20%20%20%20%20%20%20%20%20preferCanvas%3A%20false%2C%0A%20%20%20%20%20%20%20%20%20%20%20%20%20%20%20%20%7D%0A%20%20%20%20%20%20%20%20%20%20%20%20%29%3B%0A%0A%20%20%20%20%20%20%20%20%20%20%20%20%0A%0A%20%20%20%20%20%20%20%20%0A%20%20%20%20%0A%20%20%20%20%20%20%20%20%20%20%20%20var%20tile_layer_3027ae77f9914a6c9f5fb70702a7ed71%20%3D%20L.tileLayer%28%0A%20%20%20%20%20%20%20%20%20%20%20%20%20%20%20%20%22https%3A//%7Bs%7D.tile.openstreetmap.org/%7Bz%7D/%7Bx%7D/%7By%7D.png%22%2C%0A%20%20%20%20%20%20%20%20%20%20%20%20%20%20%20%20%7B%22attribution%22%3A%20%22Data%20by%20%5Cu0026copy%3B%20%5Cu003ca%20href%3D%5C%22http%3A//openstreetmap.org%5C%22%5Cu003eOpenStreetMap%5Cu003c/a%5Cu003e%2C%20under%20%5Cu003ca%20href%3D%5C%22http%3A//www.openstreetmap.org/copyright%5C%22%5Cu003eODbL%5Cu003c/a%5Cu003e.%22%2C%20%22detectRetina%22%3A%20false%2C%20%22maxNativeZoom%22%3A%2018%2C%20%22maxZoom%22%3A%2018%2C%20%22minZoom%22%3A%200%2C%20%22noWrap%22%3A%20false%2C%20%22opacity%22%3A%201%2C%20%22subdomains%22%3A%20%22abc%22%2C%20%22tms%22%3A%20false%7D%0A%20%20%20%20%20%20%20%20%20%20%20%20%29.addTo%28map_cdb3b62178da49338c6dc12639389280%29%3B%0A%20%20%20%20%20%20%20%20%0A%20%20%20%20%0A%20%20%20%20%20%20%20%20%20%20%20%20var%20tile_layer_b04a778247834bd9b4cb0d35c7881b31%20%3D%20L.tileLayer%28%0A%20%20%20%20%20%20%20%20%20%20%20%20%20%20%20%20%22https%3A//earthengine.googleapis.com/v1alpha/projects/earthengine-legacy/maps/5a19d50a40b09c2849e9e1a258448d42-50b6aa34a0bab7be46950e33a960fbae/tiles/%7Bz%7D/%7Bx%7D/%7By%7D%22%2C%0A%20%20%20%20%20%20%20%20%20%20%20%20%20%20%20%20%7B%22attribution%22%3A%20%22Map%20Data%20%5Cu0026copy%3B%20%5Cu003ca%20href%3D%5C%22https%3A//earthengine.google.com/%5C%22%5Cu003eGoogle%20Earth%20Engine%5Cu003c/a%5Cu003e%22%2C%20%22detectRetina%22%3A%20false%2C%20%22maxNativeZoom%22%3A%2018%2C%20%22maxZoom%22%3A%2018%2C%20%22minZoom%22%3A%209%2C%20%22noWrap%22%3A%20false%2C%20%22opacity%22%3A%201%2C%20%22subdomains%22%3A%20%22abc%22%2C%20%22tms%22%3A%20false%7D%0A%20%20%20%20%20%20%20%20%20%20%20%20%29.addTo%28map_cdb3b62178da49338c6dc12639389280%29%3B%0A%20%20%20%20%20%20%20%20%0A%20%20%20%20%0A%20%20%20%20%20%20%20%20%20%20%20%20var%20tile_layer_0bfd37993ee642a2a22f309c03b0a107%20%3D%20L.tileLayer%28%0A%20%20%20%20%20%20%20%20%20%20%20%20%20%20%20%20%22https%3A//earthengine.googleapis.com/v1alpha/projects/earthengine-legacy/maps/2a3bb8eeb8b21fa928b33cd9cba84b5b-db6eaf2338fe1d32eb078e07b341b75c/tiles/%7Bz%7D/%7Bx%7D/%7By%7D%22%2C%0A%20%20%20%20%20%20%20%20%20%20%20%20%20%20%20%20%7B%22attribution%22%3A%20%22Map%20Data%20%5Cu0026copy%3B%20%5Cu003ca%20href%3D%5C%22https%3A//earthengine.google.com/%5C%22%5Cu003eGoogle%20Earth%20Engine%5Cu003c/a%5Cu003e%22%2C%20%22detectRetina%22%3A%20false%2C%20%22maxNativeZoom%22%3A%2018%2C%20%22maxZoom%22%3A%2018%2C%20%22minZoom%22%3A%209%2C%20%22noWrap%22%3A%20false%2C%20%22opacity%22%3A%201%2C%20%22subdomains%22%3A%20%22abc%22%2C%20%22tms%22%3A%20false%7D%0A%20%20%20%20%20%20%20%20%20%20%20%20%29.addTo%28map_cdb3b62178da49338c6dc12639389280%29%3B%0A%20%20%20%20%20%20%20%20%0A%20%20%20%20%0A%20%20%20%20%20%20%20%20%20%20%20%20var%20tile_layer_47303a3b70554ff99e33ae8dca38e4ec%20%3D%20L.tileLayer%28%0A%20%20%20%20%20%20%20%20%20%20%20%20%20%20%20%20%22https%3A//earthengine.googleapis.com/v1alpha/projects/earthengine-legacy/maps/34ea12796523b8dd20169cb8b637f58e-4a0317d5080a90634659532cbd52eda0/tiles/%7Bz%7D/%7Bx%7D/%7By%7D%22%2C%0A%20%20%20%20%20%20%20%20%20%20%20%20%20%20%20%20%7B%22attribution%22%3A%20%22Map%20Data%20%5Cu0026copy%3B%20%5Cu003ca%20href%3D%5C%22https%3A//earthengine.google.com/%5C%22%5Cu003eGoogle%20Earth%20Engine%5Cu003c/a%5Cu003e%22%2C%20%22detectRetina%22%3A%20false%2C%20%22maxNativeZoom%22%3A%2018%2C%20%22maxZoom%22%3A%2018%2C%20%22minZoom%22%3A%209%2C%20%22noWrap%22%3A%20false%2C%20%22opacity%22%3A%201%2C%20%22subdomains%22%3A%20%22abc%22%2C%20%22tms%22%3A%20false%7D%0A%20%20%20%20%20%20%20%20%20%20%20%20%29.addTo%28map_cdb3b62178da49338c6dc12639389280%29%3B%0A%20%20%20%20%20%20%20%20%0A%20%20%20%20%0A%20%20%20%20%20%20%20%20%20%20%20%20var%20tile_layer_c8e958d0fe2346358238ed511d565f2c%20%3D%20L.tileLayer%28%0A%20%20%20%20%20%20%20%20%20%20%20%20%20%20%20%20%22https%3A//earthengine.googleapis.com/v1alpha/projects/earthengine-legacy/maps/5c22ab6464dd9a6158d485eaa9eb518a-b1c8695f7cfb5527eb475c1d255d478e/tiles/%7Bz%7D/%7Bx%7D/%7By%7D%22%2C%0A%20%20%20%20%20%20%20%20%20%20%20%20%20%20%20%20%7B%22attribution%22%3A%20%22Map%20Data%20%5Cu0026copy%3B%20%5Cu003ca%20href%3D%5C%22https%3A//earthengine.google.com/%5C%22%5Cu003eGoogle%20Earth%20Engine%5Cu003c/a%5Cu003e%22%2C%20%22detectRetina%22%3A%20false%2C%20%22maxNativeZoom%22%3A%2018%2C%20%22maxZoom%22%3A%2018%2C%20%22minZoom%22%3A%209%2C%20%22noWrap%22%3A%20false%2C%20%22opacity%22%3A%201%2C%20%22subdomains%22%3A%20%22abc%22%2C%20%22tms%22%3A%20false%7D%0A%20%20%20%20%20%20%20%20%20%20%20%20%29.addTo%28map_cdb3b62178da49338c6dc12639389280%29%3B%0A%20%20%20%20%20%20%20%20%0A%20%20%20%20%0A%20%20%20%20%20%20%20%20%20%20%20%20var%20tile_layer_904bb967f2e147428699b9ec3e202211%20%3D%20L.tileLayer%28%0A%20%20%20%20%20%20%20%20%20%20%20%20%20%20%20%20%22https%3A//earthengine.googleapis.com/v1alpha/projects/earthengine-legacy/maps/4927bcc60f0ddb67f8bb1644c191623f-5183551b23adf026d95a5dce61ae4c8e/tiles/%7Bz%7D/%7Bx%7D/%7By%7D%22%2C%0A%20%20%20%20%20%20%20%20%20%20%20%20%20%20%20%20%7B%22attribution%22%3A%20%22Map%20Data%20%5Cu0026copy%3B%20%5Cu003ca%20href%3D%5C%22https%3A//earthengine.google.com/%5C%22%5Cu003eGoogle%20Earth%20Engine%5Cu003c/a%5Cu003e%22%2C%20%22detectRetina%22%3A%20false%2C%20%22maxNativeZoom%22%3A%2018%2C%20%22maxZoom%22%3A%2018%2C%20%22minZoom%22%3A%209%2C%20%22noWrap%22%3A%20false%2C%20%22opacity%22%3A%201%2C%20%22subdomains%22%3A%20%22abc%22%2C%20%22tms%22%3A%20false%7D%0A%20%20%20%20%20%20%20%20%20%20%20%20%29.addTo%28map_cdb3b62178da49338c6dc12639389280%29%3B%0A%20%20%20%20%20%20%20%20%0A%20%20%20%20%0A%20%20%20%20%20%20%20%20%20%20%20%20var%20tile_layer_e07c6ad0af7446fe9f896e028eb70ff0%20%3D%20L.tileLayer%28%0A%20%20%20%20%20%20%20%20%20%20%20%20%20%20%20%20%22https%3A//earthengine.googleapis.com/v1alpha/projects/earthengine-legacy/maps/c06bb7ffee9edefe4548b4076d161350-5b052d8ed41bf714651cfb3469d42f93/tiles/%7Bz%7D/%7Bx%7D/%7By%7D%22%2C%0A%20%20%20%20%20%20%20%20%20%20%20%20%20%20%20%20%7B%22attribution%22%3A%20%22Map%20Data%20%5Cu0026copy%3B%20%5Cu003ca%20href%3D%5C%22https%3A//earthengine.google.com/%5C%22%5Cu003eGoogle%20Earth%20Engine%5Cu003c/a%5Cu003e%22%2C%20%22detectRetina%22%3A%20false%2C%20%22maxNativeZoom%22%3A%2018%2C%20%22maxZoom%22%3A%2018%2C%20%22minZoom%22%3A%209%2C%20%22noWrap%22%3A%20false%2C%20%22opacity%22%3A%201%2C%20%22subdomains%22%3A%20%22abc%22%2C%20%22tms%22%3A%20false%7D%0A%20%20%20%20%20%20%20%20%20%20%20%20%29.addTo%28map_cdb3b62178da49338c6dc12639389280%29%3B%0A%20%20%20%20%20%20%20%20%0A%20%20%20%20%0A%20%20%20%20%20%20%20%20%20%20%20%20var%20tile_layer_4af9dfac0d044a61ba275ad9d36993dd%20%3D%20L.tileLayer%28%0A%20%20%20%20%20%20%20%20%20%20%20%20%20%20%20%20%22https%3A//earthengine.googleapis.com/v1alpha/projects/earthengine-legacy/maps/2c8c483c31c0d7b91d468087e7f53642-21fb55e336a84c8f45bc83d4b1ed95aa/tiles/%7Bz%7D/%7Bx%7D/%7By%7D%22%2C%0A%20%20%20%20%20%20%20%20%20%20%20%20%20%20%20%20%7B%22attribution%22%3A%20%22Map%20Data%20%5Cu0026copy%3B%20%5Cu003ca%20href%3D%5C%22https%3A//earthengine.google.com/%5C%22%5Cu003eGoogle%20Earth%20Engine%5Cu003c/a%5Cu003e%22%2C%20%22detectRetina%22%3A%20false%2C%20%22maxNativeZoom%22%3A%2018%2C%20%22maxZoom%22%3A%2018%2C%20%22minZoom%22%3A%209%2C%20%22noWrap%22%3A%20false%2C%20%22opacity%22%3A%201%2C%20%22subdomains%22%3A%20%22abc%22%2C%20%22tms%22%3A%20false%7D%0A%20%20%20%20%20%20%20%20%20%20%20%20%29.addTo%28map_cdb3b62178da49338c6dc12639389280%29%3B%0A%20%20%20%20%20%20%20%20%0A%20%20%20%20%0A%20%20%20%20%20%20%20%20%20%20%20%20var%20tile_layer_aeb729c6937c4086817e887905fe879c%20%3D%20L.tileLayer%28%0A%20%20%20%20%20%20%20%20%20%20%20%20%20%20%20%20%22https%3A//earthengine.googleapis.com/v1alpha/projects/earthengine-legacy/maps/fcf95fc97d998ea4a1d7e34d24e2fd75-85cadb1f955a7be54ccfecff892ddd01/tiles/%7Bz%7D/%7Bx%7D/%7By%7D%22%2C%0A%20%20%20%20%20%20%20%20%20%20%20%20%20%20%20%20%7B%22attribution%22%3A%20%22Map%20Data%20%5Cu0026copy%3B%20%5Cu003ca%20href%3D%5C%22https%3A//earthengine.google.com/%5C%22%5Cu003eGoogle%20Earth%20Engine%5Cu003c/a%5Cu003e%22%2C%20%22detectRetina%22%3A%20false%2C%20%22maxNativeZoom%22%3A%2018%2C%20%22maxZoom%22%3A%2018%2C%20%22minZoom%22%3A%209%2C%20%22noWrap%22%3A%20false%2C%20%22opacity%22%3A%201%2C%20%22subdomains%22%3A%20%22abc%22%2C%20%22tms%22%3A%20false%7D%0A%20%20%20%20%20%20%20%20%20%20%20%20%29.addTo%28map_cdb3b62178da49338c6dc12639389280%29%3B%0A%20%20%20%20%20%20%20%20%0A%20%20%20%20%0A%20%20%20%20%20%20%20%20%20%20%20%20var%20tile_layer_9471096266ed44e0a97f55808ce0508d%20%3D%20L.tileLayer%28%0A%20%20%20%20%20%20%20%20%20%20%20%20%20%20%20%20%22https%3A//earthengine.googleapis.com/v1alpha/projects/earthengine-legacy/maps/790a093560d8aeafb1af10068bd0cac5-91970463f6c50aecdc439dfb8652dfe7/tiles/%7Bz%7D/%7Bx%7D/%7By%7D%22%2C%0A%20%20%20%20%20%20%20%20%20%20%20%20%20%20%20%20%7B%22attribution%22%3A%20%22Map%20Data%20%5Cu0026copy%3B%20%5Cu003ca%20href%3D%5C%22https%3A//earthengine.google.com/%5C%22%5Cu003eGoogle%20Earth%20Engine%5Cu003c/a%5Cu003e%22%2C%20%22detectRetina%22%3A%20false%2C%20%22maxNativeZoom%22%3A%2018%2C%20%22maxZoom%22%3A%2018%2C%20%22minZoom%22%3A%209%2C%20%22noWrap%22%3A%20false%2C%20%22opacity%22%3A%201%2C%20%22subdomains%22%3A%20%22abc%22%2C%20%22tms%22%3A%20false%7D%0A%20%20%20%20%20%20%20%20%20%20%20%20%29.addTo%28map_cdb3b62178da49338c6dc12639389280%29%3B%0A%20%20%20%20%20%20%20%20%0A%20%20%20%20%0A%20%20%20%20%20%20%20%20%20%20%20%20var%20tile_layer_1606bb93c7204999a1ff3d224a8730c4%20%3D%20L.tileLayer%28%0A%20%20%20%20%20%20%20%20%20%20%20%20%20%20%20%20%22https%3A//earthengine.googleapis.com/v1alpha/projects/earthengine-legacy/maps/51b1ea26cbe9b371f143a5e66f5cf25f-0abb21a4ddb949e13a0c1fbad98ecdfb/tiles/%7Bz%7D/%7Bx%7D/%7By%7D%22%2C%0A%20%20%20%20%20%20%20%20%20%20%20%20%20%20%20%20%7B%22attribution%22%3A%20%22Map%20Data%20%5Cu0026copy%3B%20%5Cu003ca%20href%3D%5C%22https%3A//earthengine.google.com/%5C%22%5Cu003eGoogle%20Earth%20Engine%5Cu003c/a%5Cu003e%22%2C%20%22detectRetina%22%3A%20false%2C%20%22maxNativeZoom%22%3A%2018%2C%20%22maxZoom%22%3A%2018%2C%20%22minZoom%22%3A%209%2C%20%22noWrap%22%3A%20false%2C%20%22opacity%22%3A%201%2C%20%22subdomains%22%3A%20%22abc%22%2C%20%22tms%22%3A%20false%7D%0A%20%20%20%20%20%20%20%20%20%20%20%20%29.addTo%28map_cdb3b62178da49338c6dc12639389280%29%3B%0A%20%20%20%20%20%20%20%20%0A%20%20%20%20%0A%20%20%20%20%20%20%20%20%20%20%20%20var%20tile_layer_241e932bf1034ea18f0b90d357c67271%20%3D%20L.tileLayer%28%0A%20%20%20%20%20%20%20%20%20%20%20%20%20%20%20%20%22https%3A//earthengine.googleapis.com/v1alpha/projects/earthengine-legacy/maps/fa63ef275b9372f3632bfd0bf06b3e2a-83d0d48fac4e023dbbf4aeff6caf31d1/tiles/%7Bz%7D/%7Bx%7D/%7By%7D%22%2C%0A%20%20%20%20%20%20%20%20%20%20%20%20%20%20%20%20%7B%22attribution%22%3A%20%22Map%20Data%20%5Cu0026copy%3B%20%5Cu003ca%20href%3D%5C%22https%3A//earthengine.google.com/%5C%22%5Cu003eGoogle%20Earth%20Engine%5Cu003c/a%5Cu003e%22%2C%20%22detectRetina%22%3A%20false%2C%20%22maxNativeZoom%22%3A%2018%2C%20%22maxZoom%22%3A%2018%2C%20%22minZoom%22%3A%209%2C%20%22noWrap%22%3A%20false%2C%20%22opacity%22%3A%201%2C%20%22subdomains%22%3A%20%22abc%22%2C%20%22tms%22%3A%20false%7D%0A%20%20%20%20%20%20%20%20%20%20%20%20%29.addTo%28map_cdb3b62178da49338c6dc12639389280%29%3B%0A%20%20%20%20%20%20%20%20%0A%20%20%20%20%0A%20%20%20%20%20%20%20%20%20%20%20%20var%20tile_layer_af6eb841a60047c2b959859753c20584%20%3D%20L.tileLayer%28%0A%20%20%20%20%20%20%20%20%20%20%20%20%20%20%20%20%22https%3A//earthengine.googleapis.com/v1alpha/projects/earthengine-legacy/maps/0af93be65b1b2116bb0b684c47161e7a-673e7a02698a3b5b3a64006e1be89973/tiles/%7Bz%7D/%7Bx%7D/%7By%7D%22%2C%0A%20%20%20%20%20%20%20%20%20%20%20%20%20%20%20%20%7B%22attribution%22%3A%20%22Map%20Data%20%5Cu0026copy%3B%20%5Cu003ca%20href%3D%5C%22https%3A//earthengine.google.com/%5C%22%5Cu003eGoogle%20Earth%20Engine%5Cu003c/a%5Cu003e%22%2C%20%22detectRetina%22%3A%20false%2C%20%22maxNativeZoom%22%3A%2018%2C%20%22maxZoom%22%3A%2018%2C%20%22minZoom%22%3A%209%2C%20%22noWrap%22%3A%20false%2C%20%22opacity%22%3A%201%2C%20%22subdomains%22%3A%20%22abc%22%2C%20%22tms%22%3A%20false%7D%0A%20%20%20%20%20%20%20%20%20%20%20%20%29.addTo%28map_cdb3b62178da49338c6dc12639389280%29%3B%0A%20%20%20%20%20%20%20%20%0A%20%20%20%20%0A%20%20%20%20%20%20%20%20%20%20%20%20var%20tile_layer_bf810ee253f6442c941d7ad9a13743bc%20%3D%20L.tileLayer%28%0A%20%20%20%20%20%20%20%20%20%20%20%20%20%20%20%20%22https%3A//earthengine.googleapis.com/v1alpha/projects/earthengine-legacy/maps/7b45aae5b01e654489941f8b828bc775-708062f53033ba1b97c278c4822df951/tiles/%7Bz%7D/%7Bx%7D/%7By%7D%22%2C%0A%20%20%20%20%20%20%20%20%20%20%20%20%20%20%20%20%7B%22attribution%22%3A%20%22Map%20Data%20%5Cu0026copy%3B%20%5Cu003ca%20href%3D%5C%22https%3A//earthengine.google.com/%5C%22%5Cu003eGoogle%20Earth%20Engine%5Cu003c/a%5Cu003e%22%2C%20%22detectRetina%22%3A%20false%2C%20%22maxNativeZoom%22%3A%2018%2C%20%22maxZoom%22%3A%2018%2C%20%22minZoom%22%3A%209%2C%20%22noWrap%22%3A%20false%2C%20%22opacity%22%3A%201%2C%20%22subdomains%22%3A%20%22abc%22%2C%20%22tms%22%3A%20false%7D%0A%20%20%20%20%20%20%20%20%20%20%20%20%29.addTo%28map_cdb3b62178da49338c6dc12639389280%29%3B%0A%20%20%20%20%20%20%20%20%0A%20%20%20%20%0A%20%20%20%20%20%20%20%20%20%20%20%20var%20tile_layer_a57a9c7343964b94b9b59d36bb08a756%20%3D%20L.tileLayer%28%0A%20%20%20%20%20%20%20%20%20%20%20%20%20%20%20%20%22https%3A//earthengine.googleapis.com/v1alpha/projects/earthengine-legacy/maps/4055f5a2cb8c8bef0916f4a81e351a25-1ca759529079362adef789a6a1fc1be9/tiles/%7Bz%7D/%7Bx%7D/%7By%7D%22%2C%0A%20%20%20%20%20%20%20%20%20%20%20%20%20%20%20%20%7B%22attribution%22%3A%20%22Map%20Data%20%5Cu0026copy%3B%20%5Cu003ca%20href%3D%5C%22https%3A//earthengine.google.com/%5C%22%5Cu003eGoogle%20Earth%20Engine%5Cu003c/a%5Cu003e%22%2C%20%22detectRetina%22%3A%20false%2C%20%22maxNativeZoom%22%3A%2018%2C%20%22maxZoom%22%3A%2018%2C%20%22minZoom%22%3A%209%2C%20%22noWrap%22%3A%20false%2C%20%22opacity%22%3A%201%2C%20%22subdomains%22%3A%20%22abc%22%2C%20%22tms%22%3A%20false%7D%0A%20%20%20%20%20%20%20%20%20%20%20%20%29.addTo%28map_cdb3b62178da49338c6dc12639389280%29%3B%0A%20%20%20%20%20%20%20%20%0A%20%20%20%20%0A%20%20%20%20%20%20%20%20%20%20%20%20var%20tile_layer_33ff3c53db3a4bb18cd21586d53affb2%20%3D%20L.tileLayer%28%0A%20%20%20%20%20%20%20%20%20%20%20%20%20%20%20%20%22https%3A//earthengine.googleapis.com/v1alpha/projects/earthengine-legacy/maps/2eb1b7c9d951d5d0b6a05acd29be16ad-b6e40796d48191527d014319d70fcd7e/tiles/%7Bz%7D/%7Bx%7D/%7By%7D%22%2C%0A%20%20%20%20%20%20%20%20%20%20%20%20%20%20%20%20%7B%22attribution%22%3A%20%22Map%20Data%20%5Cu0026copy%3B%20%5Cu003ca%20href%3D%5C%22https%3A//earthengine.google.com/%5C%22%5Cu003eGoogle%20Earth%20Engine%5Cu003c/a%5Cu003e%22%2C%20%22detectRetina%22%3A%20false%2C%20%22maxNativeZoom%22%3A%2018%2C%20%22maxZoom%22%3A%2018%2C%20%22minZoom%22%3A%209%2C%20%22noWrap%22%3A%20false%2C%20%22opacity%22%3A%201%2C%20%22subdomains%22%3A%20%22abc%22%2C%20%22tms%22%3A%20false%7D%0A%20%20%20%20%20%20%20%20%20%20%20%20%29.addTo%28map_cdb3b62178da49338c6dc12639389280%29%3B%0A%20%20%20%20%20%20%20%20%0A%20%20%20%20%0A%20%20%20%20%20%20%20%20%20%20%20%20var%20tile_layer_eada98033ee641809c965da9b160c507%20%3D%20L.tileLayer%28%0A%20%20%20%20%20%20%20%20%20%20%20%20%20%20%20%20%22https%3A//earthengine.googleapis.com/v1alpha/projects/earthengine-legacy/maps/fe24b5bc998daad3b5383618613c6374-933f83fd7e5fee457955ced3bbdd4144/tiles/%7Bz%7D/%7Bx%7D/%7By%7D%22%2C%0A%20%20%20%20%20%20%20%20%20%20%20%20%20%20%20%20%7B%22attribution%22%3A%20%22Map%20Data%20%5Cu0026copy%3B%20%5Cu003ca%20href%3D%5C%22https%3A//earthengine.google.com/%5C%22%5Cu003eGoogle%20Earth%20Engine%5Cu003c/a%5Cu003e%22%2C%20%22detectRetina%22%3A%20false%2C%20%22maxNativeZoom%22%3A%2018%2C%20%22maxZoom%22%3A%2018%2C%20%22minZoom%22%3A%209%2C%20%22noWrap%22%3A%20false%2C%20%22opacity%22%3A%201%2C%20%22subdomains%22%3A%20%22abc%22%2C%20%22tms%22%3A%20false%7D%0A%20%20%20%20%20%20%20%20%20%20%20%20%29.addTo%28map_cdb3b62178da49338c6dc12639389280%29%3B%0A%20%20%20%20%20%20%20%20%0A%20%20%20%20%0A%20%20%20%20%20%20%20%20%20%20%20%20var%20tile_layer_3163132b1a334ad4bf5709a1833a8228%20%3D%20L.tileLayer%28%0A%20%20%20%20%20%20%20%20%20%20%20%20%20%20%20%20%22https%3A//earthengine.googleapis.com/v1alpha/projects/earthengine-legacy/maps/d2d63e88c02c48229d53685555ac104c-2f00358694a738b54d014f63e6beda5a/tiles/%7Bz%7D/%7Bx%7D/%7By%7D%22%2C%0A%20%20%20%20%20%20%20%20%20%20%20%20%20%20%20%20%7B%22attribution%22%3A%20%22Map%20Data%20%5Cu0026copy%3B%20%5Cu003ca%20href%3D%5C%22https%3A//earthengine.google.com/%5C%22%5Cu003eGoogle%20Earth%20Engine%5Cu003c/a%5Cu003e%22%2C%20%22detectRetina%22%3A%20false%2C%20%22maxNativeZoom%22%3A%2018%2C%20%22maxZoom%22%3A%2018%2C%20%22minZoom%22%3A%209%2C%20%22noWrap%22%3A%20false%2C%20%22opacity%22%3A%201%2C%20%22subdomains%22%3A%20%22abc%22%2C%20%22tms%22%3A%20false%7D%0A%20%20%20%20%20%20%20%20%20%20%20%20%29.addTo%28map_cdb3b62178da49338c6dc12639389280%29%3B%0A%20%20%20%20%20%20%20%20%0A%20%20%20%20%0A%20%20%20%20%20%20%20%20%20%20%20%20var%20tile_layer_21732513f46c4612bf49663ec925549a%20%3D%20L.tileLayer%28%0A%20%20%20%20%20%20%20%20%20%20%20%20%20%20%20%20%22https%3A//earthengine.googleapis.com/v1alpha/projects/earthengine-legacy/maps/a288c45a4057e478cafeb654e0b3615e-ec8d1ad7fd22137ff9ee3eee6f890d63/tiles/%7Bz%7D/%7Bx%7D/%7By%7D%22%2C%0A%20%20%20%20%20%20%20%20%20%20%20%20%20%20%20%20%7B%22attribution%22%3A%20%22Map%20Data%20%5Cu0026copy%3B%20%5Cu003ca%20href%3D%5C%22https%3A//earthengine.google.com/%5C%22%5Cu003eGoogle%20Earth%20Engine%5Cu003c/a%5Cu003e%22%2C%20%22detectRetina%22%3A%20false%2C%20%22maxNativeZoom%22%3A%2018%2C%20%22maxZoom%22%3A%2018%2C%20%22minZoom%22%3A%209%2C%20%22noWrap%22%3A%20false%2C%20%22opacity%22%3A%201%2C%20%22subdomains%22%3A%20%22abc%22%2C%20%22tms%22%3A%20false%7D%0A%20%20%20%20%20%20%20%20%20%20%20%20%29.addTo%28map_cdb3b62178da49338c6dc12639389280%29%3B%0A%20%20%20%20%20%20%20%20%0A%20%20%20%20%0A%20%20%20%20%20%20%20%20%20%20%20%20var%20tile_layer_a77a4e06e15c43178b58b4503a1b1114%20%3D%20L.tileLayer%28%0A%20%20%20%20%20%20%20%20%20%20%20%20%20%20%20%20%22https%3A//earthengine.googleapis.com/v1alpha/projects/earthengine-legacy/maps/17583166578b843609b49a5ba35972db-e8d869ac71e510fda75ccc830607d235/tiles/%7Bz%7D/%7Bx%7D/%7By%7D%22%2C%0A%20%20%20%20%20%20%20%20%20%20%20%20%20%20%20%20%7B%22attribution%22%3A%20%22Map%20Data%20%5Cu0026copy%3B%20%5Cu003ca%20href%3D%5C%22https%3A//earthengine.google.com/%5C%22%5Cu003eGoogle%20Earth%20Engine%5Cu003c/a%5Cu003e%22%2C%20%22detectRetina%22%3A%20false%2C%20%22maxNativeZoom%22%3A%2018%2C%20%22maxZoom%22%3A%2018%2C%20%22minZoom%22%3A%209%2C%20%22noWrap%22%3A%20false%2C%20%22opacity%22%3A%201%2C%20%22subdomains%22%3A%20%22abc%22%2C%20%22tms%22%3A%20false%7D%0A%20%20%20%20%20%20%20%20%20%20%20%20%29.addTo%28map_cdb3b62178da49338c6dc12639389280%29%3B%0A%20%20%20%20%20%20%20%20%0A%20%20%20%20%0A%20%20%20%20%20%20%20%20%20%20%20%20var%20tile_layer_7fd6a186e2d744159d91934a0cfd64cd%20%3D%20L.tileLayer%28%0A%20%20%20%20%20%20%20%20%20%20%20%20%20%20%20%20%22https%3A//earthengine.googleapis.com/v1alpha/projects/earthengine-legacy/maps/fe6c66f25cd00ebb731ed0dd73cb1032-2cc75a44056a32727b31c8a4eff477b8/tiles/%7Bz%7D/%7Bx%7D/%7By%7D%22%2C%0A%20%20%20%20%20%20%20%20%20%20%20%20%20%20%20%20%7B%22attribution%22%3A%20%22Map%20Data%20%5Cu0026copy%3B%20%5Cu003ca%20href%3D%5C%22https%3A//earthengine.google.com/%5C%22%5Cu003eGoogle%20Earth%20Engine%5Cu003c/a%5Cu003e%22%2C%20%22detectRetina%22%3A%20false%2C%20%22maxNativeZoom%22%3A%2018%2C%20%22maxZoom%22%3A%2018%2C%20%22minZoom%22%3A%209%2C%20%22noWrap%22%3A%20false%2C%20%22opacity%22%3A%201%2C%20%22subdomains%22%3A%20%22abc%22%2C%20%22tms%22%3A%20false%7D%0A%20%20%20%20%20%20%20%20%20%20%20%20%29.addTo%28map_cdb3b62178da49338c6dc12639389280%29%3B%0A%20%20%20%20%20%20%20%20%0A%20%20%20%20%0A%20%20%20%20%20%20%20%20%20%20%20%20var%20tile_layer_5ec992731db945829b888caa6b948da1%20%3D%20L.tileLayer%28%0A%20%20%20%20%20%20%20%20%20%20%20%20%20%20%20%20%22https%3A//earthengine.googleapis.com/v1alpha/projects/earthengine-legacy/maps/2f3a68704507884031df37bb0338b0a2-1c241b9e741307243990d1ab31dfcba6/tiles/%7Bz%7D/%7Bx%7D/%7By%7D%22%2C%0A%20%20%20%20%20%20%20%20%20%20%20%20%20%20%20%20%7B%22attribution%22%3A%20%22Map%20Data%20%5Cu0026copy%3B%20%5Cu003ca%20href%3D%5C%22https%3A//earthengine.google.com/%5C%22%5Cu003eGoogle%20Earth%20Engine%5Cu003c/a%5Cu003e%22%2C%20%22detectRetina%22%3A%20false%2C%20%22maxNativeZoom%22%3A%2018%2C%20%22maxZoom%22%3A%2018%2C%20%22minZoom%22%3A%209%2C%20%22noWrap%22%3A%20false%2C%20%22opacity%22%3A%201%2C%20%22subdomains%22%3A%20%22abc%22%2C%20%22tms%22%3A%20false%7D%0A%20%20%20%20%20%20%20%20%20%20%20%20%29.addTo%28map_cdb3b62178da49338c6dc12639389280%29%3B%0A%20%20%20%20%20%20%20%20%0A%20%20%20%20%0A%20%20%20%20%20%20%20%20%20%20%20%20var%20tile_layer_065fced30cac49aeb499ca9da7d87937%20%3D%20L.tileLayer%28%0A%20%20%20%20%20%20%20%20%20%20%20%20%20%20%20%20%22https%3A//earthengine.googleapis.com/v1alpha/projects/earthengine-legacy/maps/2033c31a527b31c1b83f8423ef079386-28f0fd36cd5525b3792675c608485243/tiles/%7Bz%7D/%7Bx%7D/%7By%7D%22%2C%0A%20%20%20%20%20%20%20%20%20%20%20%20%20%20%20%20%7B%22attribution%22%3A%20%22Map%20Data%20%5Cu0026copy%3B%20%5Cu003ca%20href%3D%5C%22https%3A//earthengine.google.com/%5C%22%5Cu003eGoogle%20Earth%20Engine%5Cu003c/a%5Cu003e%22%2C%20%22detectRetina%22%3A%20false%2C%20%22maxNativeZoom%22%3A%2018%2C%20%22maxZoom%22%3A%2018%2C%20%22minZoom%22%3A%209%2C%20%22noWrap%22%3A%20false%2C%20%22opacity%22%3A%201%2C%20%22subdomains%22%3A%20%22abc%22%2C%20%22tms%22%3A%20false%7D%0A%20%20%20%20%20%20%20%20%20%20%20%20%29.addTo%28map_cdb3b62178da49338c6dc12639389280%29%3B%0A%20%20%20%20%20%20%20%20%0A%20%20%20%20%0A%20%20%20%20%20%20%20%20%20%20%20%20var%20tile_layer_89641cd20d564c9ab21c97627663c4af%20%3D%20L.tileLayer%28%0A%20%20%20%20%20%20%20%20%20%20%20%20%20%20%20%20%22https%3A//earthengine.googleapis.com/v1alpha/projects/earthengine-legacy/maps/6ceff75108c05886e97476790480673e-02cd7d3ef5cdf3935bf0b3e373ead036/tiles/%7Bz%7D/%7Bx%7D/%7By%7D%22%2C%0A%20%20%20%20%20%20%20%20%20%20%20%20%20%20%20%20%7B%22attribution%22%3A%20%22Map%20Data%20%5Cu0026copy%3B%20%5Cu003ca%20href%3D%5C%22https%3A//earthengine.google.com/%5C%22%5Cu003eGoogle%20Earth%20Engine%5Cu003c/a%5Cu003e%22%2C%20%22detectRetina%22%3A%20false%2C%20%22maxNativeZoom%22%3A%2018%2C%20%22maxZoom%22%3A%2018%2C%20%22minZoom%22%3A%209%2C%20%22noWrap%22%3A%20false%2C%20%22opacity%22%3A%201%2C%20%22subdomains%22%3A%20%22abc%22%2C%20%22tms%22%3A%20false%7D%0A%20%20%20%20%20%20%20%20%20%20%20%20%29.addTo%28map_cdb3b62178da49338c6dc12639389280%29%3B%0A%20%20%20%20%20%20%20%20%0A%20%20%20%20%0A%20%20%20%20%20%20%20%20%20%20%20%20var%20tile_layer_3d27b28012f247cf9cf9debcdb650eb4%20%3D%20L.tileLayer%28%0A%20%20%20%20%20%20%20%20%20%20%20%20%20%20%20%20%22https%3A//earthengine.googleapis.com/v1alpha/projects/earthengine-legacy/maps/5d66a83c5fc156354ff9a5dc71717ca7-fc80be055e0c37792955c61a9ebfa2bc/tiles/%7Bz%7D/%7Bx%7D/%7By%7D%22%2C%0A%20%20%20%20%20%20%20%20%20%20%20%20%20%20%20%20%7B%22attribution%22%3A%20%22Map%20Data%20%5Cu0026copy%3B%20%5Cu003ca%20href%3D%5C%22https%3A//earthengine.google.com/%5C%22%5Cu003eGoogle%20Earth%20Engine%5Cu003c/a%5Cu003e%22%2C%20%22detectRetina%22%3A%20false%2C%20%22maxNativeZoom%22%3A%2018%2C%20%22maxZoom%22%3A%2018%2C%20%22minZoom%22%3A%209%2C%20%22noWrap%22%3A%20false%2C%20%22opacity%22%3A%201%2C%20%22subdomains%22%3A%20%22abc%22%2C%20%22tms%22%3A%20false%7D%0A%20%20%20%20%20%20%20%20%20%20%20%20%29.addTo%28map_cdb3b62178da49338c6dc12639389280%29%3B%0A%20%20%20%20%20%20%20%20%0A%20%20%20%20%0A%20%20%20%20%20%20%20%20%20%20%20%20var%20tile_layer_9ec9387d491f4f41bca5349c9ab66905%20%3D%20L.tileLayer%28%0A%20%20%20%20%20%20%20%20%20%20%20%20%20%20%20%20%22https%3A//earthengine.googleapis.com/v1alpha/projects/earthengine-legacy/maps/244c687fa3be1dc8642eec4d00bdab64-dcee1315deb88df92a8eef1abf7ec85b/tiles/%7Bz%7D/%7Bx%7D/%7By%7D%22%2C%0A%20%20%20%20%20%20%20%20%20%20%20%20%20%20%20%20%7B%22attribution%22%3A%20%22Map%20Data%20%5Cu0026copy%3B%20%5Cu003ca%20href%3D%5C%22https%3A//earthengine.google.com/%5C%22%5Cu003eGoogle%20Earth%20Engine%5Cu003c/a%5Cu003e%22%2C%20%22detectRetina%22%3A%20false%2C%20%22maxNativeZoom%22%3A%2018%2C%20%22maxZoom%22%3A%2018%2C%20%22minZoom%22%3A%209%2C%20%22noWrap%22%3A%20false%2C%20%22opacity%22%3A%201%2C%20%22subdomains%22%3A%20%22abc%22%2C%20%22tms%22%3A%20false%7D%0A%20%20%20%20%20%20%20%20%20%20%20%20%29.addTo%28map_cdb3b62178da49338c6dc12639389280%29%3B%0A%20%20%20%20%20%20%20%20%0A%20%20%20%20%0A%20%20%20%20%20%20%20%20%20%20%20%20var%20layer_control_16d1221ad4ac4d3e89ea6a6e34edcbe9%20%3D%20%7B%0A%20%20%20%20%20%20%20%20%20%20%20%20%20%20%20%20base_layers%20%3A%20%7B%0A%20%20%20%20%20%20%20%20%20%20%20%20%20%20%20%20%20%20%20%20%22openstreetmap%22%20%3A%20tile_layer_3027ae77f9914a6c9f5fb70702a7ed71%2C%0A%20%20%20%20%20%20%20%20%20%20%20%20%20%20%20%20%7D%2C%0A%20%20%20%20%20%20%20%20%20%20%20%20%20%20%20%20overlays%20%3A%20%20%7B%0A%20%20%20%20%20%20%20%20%20%20%20%20%20%20%20%20%20%20%20%20%22Point%3A%200%2C%20Province%3A%20Ontario%2C%20%28%5Cu00272019-06-01%5Cu0027%2C%20%5Cu00272019-06-30%5Cu0027%29%22%20%3A%20tile_layer_b04a778247834bd9b4cb0d35c7881b31%2C%0A%20%20%20%20%20%20%20%20%20%20%20%20%20%20%20%20%20%20%20%20%22Point%3A%200%2C%20Province%3A%20Ontario%2C%20%28%5Cu00272019-07-01%5Cu0027%2C%20%5Cu00272019-07-31%5Cu0027%29%22%20%3A%20tile_layer_0bfd37993ee642a2a22f309c03b0a107%2C%0A%20%20%20%20%20%20%20%20%20%20%20%20%20%20%20%20%20%20%20%20%22Point%3A%200%2C%20Province%3A%20Ontario%2C%20%28%5Cu00272019-08-01%5Cu0027%2C%20%5Cu00272019-08-31%5Cu0027%29%22%20%3A%20tile_layer_47303a3b70554ff99e33ae8dca38e4ec%2C%0A%20%20%20%20%20%20%20%20%20%20%20%20%20%20%20%20%20%20%20%20%22Point%3A%200%2C%20Province%3A%20Ontario%2C%20%28%5Cu00272019-09-01%5Cu0027%2C%20%5Cu00272019-09-30%5Cu0027%29%22%20%3A%20tile_layer_c8e958d0fe2346358238ed511d565f2c%2C%0A%20%20%20%20%20%20%20%20%20%20%20%20%20%20%20%20%20%20%20%20%22Point%3A%200%2C%20Province%3A%20Ontario%2C%20%28%5Cu00272019-10-01%5Cu0027%2C%20%5Cu00272019-10-31%5Cu0027%29%22%20%3A%20tile_layer_904bb967f2e147428699b9ec3e202211%2C%0A%20%20%20%20%20%20%20%20%20%20%20%20%20%20%20%20%20%20%20%20%22Point%3A%201%2C%20Province%3A%20Ontario%2C%20%28%5Cu00272019-06-01%5Cu0027%2C%20%5Cu00272019-06-30%5Cu0027%29%22%20%3A%20tile_layer_e07c6ad0af7446fe9f896e028eb70ff0%2C%0A%20%20%20%20%20%20%20%20%20%20%20%20%20%20%20%20%20%20%20%20%22Point%3A%201%2C%20Province%3A%20Ontario%2C%20%28%5Cu00272019-07-01%5Cu0027%2C%20%5Cu00272019-07-31%5Cu0027%29%22%20%3A%20tile_layer_4af9dfac0d044a61ba275ad9d36993dd%2C%0A%20%20%20%20%20%20%20%20%20%20%20%20%20%20%20%20%20%20%20%20%22Point%3A%201%2C%20Province%3A%20Ontario%2C%20%28%5Cu00272019-08-01%5Cu0027%2C%20%5Cu00272019-08-31%5Cu0027%29%22%20%3A%20tile_layer_aeb729c6937c4086817e887905fe879c%2C%0A%20%20%20%20%20%20%20%20%20%20%20%20%20%20%20%20%20%20%20%20%22Point%3A%201%2C%20Province%3A%20Ontario%2C%20%28%5Cu00272019-09-01%5Cu0027%2C%20%5Cu00272019-09-30%5Cu0027%29%22%20%3A%20tile_layer_9471096266ed44e0a97f55808ce0508d%2C%0A%20%20%20%20%20%20%20%20%20%20%20%20%20%20%20%20%20%20%20%20%22Point%3A%201%2C%20Province%3A%20Ontario%2C%20%28%5Cu00272019-10-01%5Cu0027%2C%20%5Cu00272019-10-31%5Cu0027%29%22%20%3A%20tile_layer_1606bb93c7204999a1ff3d224a8730c4%2C%0A%20%20%20%20%20%20%20%20%20%20%20%20%20%20%20%20%20%20%20%20%22Point%3A%202%2C%20Province%3A%20Quebec%2C%20%28%5Cu00272019-06-01%5Cu0027%2C%20%5Cu00272019-06-30%5Cu0027%29%22%20%3A%20tile_layer_241e932bf1034ea18f0b90d357c67271%2C%0A%20%20%20%20%20%20%20%20%20%20%20%20%20%20%20%20%20%20%20%20%22Point%3A%202%2C%20Province%3A%20Quebec%2C%20%28%5Cu00272019-07-01%5Cu0027%2C%20%5Cu00272019-07-31%5Cu0027%29%22%20%3A%20tile_layer_af6eb841a60047c2b959859753c20584%2C%0A%20%20%20%20%20%20%20%20%20%20%20%20%20%20%20%20%20%20%20%20%22Point%3A%202%2C%20Province%3A%20Quebec%2C%20%28%5Cu00272019-08-01%5Cu0027%2C%20%5Cu00272019-08-31%5Cu0027%29%22%20%3A%20tile_layer_bf810ee253f6442c941d7ad9a13743bc%2C%0A%20%20%20%20%20%20%20%20%20%20%20%20%20%20%20%20%20%20%20%20%22Point%3A%202%2C%20Province%3A%20Quebec%2C%20%28%5Cu00272019-09-01%5Cu0027%2C%20%5Cu00272019-09-30%5Cu0027%29%22%20%3A%20tile_layer_a57a9c7343964b94b9b59d36bb08a756%2C%0A%20%20%20%20%20%20%20%20%20%20%20%20%20%20%20%20%20%20%20%20%22Point%3A%202%2C%20Province%3A%20Quebec%2C%20%28%5Cu00272019-10-01%5Cu0027%2C%20%5Cu00272019-10-31%5Cu0027%29%22%20%3A%20tile_layer_33ff3c53db3a4bb18cd21586d53affb2%2C%0A%20%20%20%20%20%20%20%20%20%20%20%20%20%20%20%20%20%20%20%20%22Point%3A%203%2C%20Province%3A%20Quebec%2C%20%28%5Cu00272019-06-01%5Cu0027%2C%20%5Cu00272019-06-30%5Cu0027%29%22%20%3A%20tile_layer_eada98033ee641809c965da9b160c507%2C%0A%20%20%20%20%20%20%20%20%20%20%20%20%20%20%20%20%20%20%20%20%22Point%3A%203%2C%20Province%3A%20Quebec%2C%20%28%5Cu00272019-07-01%5Cu0027%2C%20%5Cu00272019-07-31%5Cu0027%29%22%20%3A%20tile_layer_3163132b1a334ad4bf5709a1833a8228%2C%0A%20%20%20%20%20%20%20%20%20%20%20%20%20%20%20%20%20%20%20%20%22Point%3A%203%2C%20Province%3A%20Quebec%2C%20%28%5Cu00272019-08-01%5Cu0027%2C%20%5Cu00272019-08-31%5Cu0027%29%22%20%3A%20tile_layer_21732513f46c4612bf49663ec925549a%2C%0A%20%20%20%20%20%20%20%20%20%20%20%20%20%20%20%20%20%20%20%20%22Point%3A%203%2C%20Province%3A%20Quebec%2C%20%28%5Cu00272019-09-01%5Cu0027%2C%20%5Cu00272019-09-30%5Cu0027%29%22%20%3A%20tile_layer_a77a4e06e15c43178b58b4503a1b1114%2C%0A%20%20%20%20%20%20%20%20%20%20%20%20%20%20%20%20%20%20%20%20%22Point%3A%203%2C%20Province%3A%20Quebec%2C%20%28%5Cu00272019-10-01%5Cu0027%2C%20%5Cu00272019-10-31%5Cu0027%29%22%20%3A%20tile_layer_7fd6a186e2d744159d91934a0cfd64cd%2C%0A%20%20%20%20%20%20%20%20%20%20%20%20%20%20%20%20%20%20%20%20%22Point%3A%204%2C%20Province%3A%20Quebec%2C%20%28%5Cu00272019-06-01%5Cu0027%2C%20%5Cu00272019-06-30%5Cu0027%29%22%20%3A%20tile_layer_5ec992731db945829b888caa6b948da1%2C%0A%20%20%20%20%20%20%20%20%20%20%20%20%20%20%20%20%20%20%20%20%22Point%3A%204%2C%20Province%3A%20Quebec%2C%20%28%5Cu00272019-07-01%5Cu0027%2C%20%5Cu00272019-07-31%5Cu0027%29%22%20%3A%20tile_layer_065fced30cac49aeb499ca9da7d87937%2C%0A%20%20%20%20%20%20%20%20%20%20%20%20%20%20%20%20%20%20%20%20%22Point%3A%204%2C%20Province%3A%20Quebec%2C%20%28%5Cu00272019-08-01%5Cu0027%2C%20%5Cu00272019-08-31%5Cu0027%29%22%20%3A%20tile_layer_89641cd20d564c9ab21c97627663c4af%2C%0A%20%20%20%20%20%20%20%20%20%20%20%20%20%20%20%20%20%20%20%20%22Point%3A%204%2C%20Province%3A%20Quebec%2C%20%28%5Cu00272019-09-01%5Cu0027%2C%20%5Cu00272019-09-30%5Cu0027%29%22%20%3A%20tile_layer_3d27b28012f247cf9cf9debcdb650eb4%2C%0A%20%20%20%20%20%20%20%20%20%20%20%20%20%20%20%20%20%20%20%20%22Point%3A%204%2C%20Province%3A%20Quebec%2C%20%28%5Cu00272019-10-01%5Cu0027%2C%20%5Cu00272019-10-31%5Cu0027%29%22%20%3A%20tile_layer_9ec9387d491f4f41bca5349c9ab66905%2C%0A%20%20%20%20%20%20%20%20%20%20%20%20%20%20%20%20%7D%2C%0A%20%20%20%20%20%20%20%20%20%20%20%20%7D%3B%0A%20%20%20%20%20%20%20%20%20%20%20%20L.control.layers%28%0A%20%20%20%20%20%20%20%20%20%20%20%20%20%20%20%20layer_control_16d1221ad4ac4d3e89ea6a6e34edcbe9.base_layers%2C%0A%20%20%20%20%20%20%20%20%20%20%20%20%20%20%20%20layer_control_16d1221ad4ac4d3e89ea6a6e34edcbe9.overlays%2C%0A%20%20%20%20%20%20%20%20%20%20%20%20%20%20%20%20%7B%22autoZIndex%22%3A%20true%2C%20%22collapsed%22%3A%20true%2C%20%22position%22%3A%20%22topright%22%7D%0A%20%20%20%20%20%20%20%20%20%20%20%20%29.addTo%28map_cdb3b62178da49338c6dc12639389280%29%3B%0A%20%20%20%20%20%20%20%20%0A%3C/script%3E onload=\"this.contentDocument.open();this.contentDocument.write(    decodeURIComponent(this.getAttribute('data-html')));this.contentDocument.close();\" allowfullscreen webkitallowfullscreen mozallowfullscreen></iframe></div></div>"
      ],
      "text/plain": [
       "<folium.folium.Map at 0x1659355f970>"
      ]
     },
     "metadata": {},
     "output_type": "display_data"
    }
   ],
   "source": [
    "#center = [-74.44633007, 45.22942979]\n",
    "m = folium.Map(zoom_start = 14)\n",
    "\n",
    "\n",
    "for i, point in enumerate(points):\n",
    "    # create the roi \n",
    "    ROI = makeRectangle([point[5], point[6]])\n",
    "    print(point)\n",
    "    for j, season in enumerate(time_intervals):\n",
    "        print(season)\n",
    "        # create an image collection for every point and month, mask clouds and shadows and then take the median image.  \n",
    "        s2_sr_cloud_collection = get_s2_sr_cld_col(ROI, season[0], season[1])\n",
    "        s2_sr_median = (s2_sr_cloud_collection.map(add_cld_shdw_mask)\n",
    "                             .map(apply_cld_shdw_mask)\n",
    "                             .median())\n",
    "        \n",
    "        # Add layers to the folium map.\n",
    "        m.add_ee_layer(s2_sr_median,\n",
    "                       {'bands': ['B4', 'B3', 'B2'], 'min': 0, 'max': 2500, 'gamma': 1.1},\n",
    "                       (\"Point: \" + str(point[0]) + \", Province: \" + point[1] + \", \" + str(season)), True, 1, 9)\n",
    "        \n",
    "# center using the last evaluated ROI\n",
    "center = ROI.centroid(10).coordinates().reverse().getInfo()\n",
    "        \n",
    "# Add a layer control panel to the map.\n",
    "m.add_child(folium.LayerControl())     \n",
    "\n",
    "display(m)"
   ]
  },
  {
   "cell_type": "markdown",
   "id": "f041977a",
   "metadata": {},
   "source": [
    " Retry the previous code with this new filtering process: "
   ]
  },
  {
   "cell_type": "code",
   "execution_count": 15,
   "id": "8a4abe24",
   "metadata": {},
   "outputs": [],
   "source": [
    "# create new obtain_image_sentinel function \n",
    "def obtain_image_sentinel2(time_range, area):\n",
    "    s2_sr_cld_col = get_s2_sr_cld_col(area, time_range[0], time_range[1])\n",
    "    s2_sr_median = s2_sr_cld_col.map(add_cld_shdw_mask).map(apply_cld_shdw_mask).median()\n",
    "    return s2_sr_median"
   ]
  },
  {
   "cell_type": "code",
   "execution_count": 16,
   "id": "1e0defd0",
   "metadata": {},
   "outputs": [],
   "source": [
    "# Specify the correct encoding and region\n",
    "def get_url(name, image, scale, region):\n",
    "    path = image.getDownloadURL({\n",
    "        'name':(name),\n",
    "        'scale': scale,\n",
    "        'region':(region),\n",
    "        'crs':'EPSG:3978'\n",
    "        })\n",
    "    return path"
   ]
  },
  {
   "cell_type": "code",
   "execution_count": 17,
   "id": "c9f8ae68",
   "metadata": {},
   "outputs": [
    {
     "name": "stdout",
     "output_type": "stream",
     "text": [
      "point:  (0, 'Ontario', 'ON', 'corn', 147, -77.32844954, 44.27797623)\n",
      "season:  ('2019-06-01', '2019-06-30')\n",
      "url:  https://earthengine.googleapis.com/v1alpha/projects/earthengine-legacy/thumbnails/5d92b9147c05d643af07688498d335d5-fd9862e3d89281ca8c223ea02ca4de72:getPixels\n",
      "point:  (0, 'Ontario', 'ON', 'corn', 147, -77.32844954, 44.27797623)\n",
      "season:  ('2019-07-01', '2019-07-31')\n",
      "url:  https://earthengine.googleapis.com/v1alpha/projects/earthengine-legacy/thumbnails/9c6edc197267845c7b95d65d54e3cc8f-9dd0fbe47e5996f302bd1820ce19cb41:getPixels\n",
      "point:  (0, 'Ontario', 'ON', 'corn', 147, -77.32844954, 44.27797623)\n",
      "season:  ('2019-08-01', '2019-08-31')\n",
      "url:  https://earthengine.googleapis.com/v1alpha/projects/earthengine-legacy/thumbnails/2efc3f8b7ff24f545755cd0a7fbfa703-ed8a9ce20bde2118871e92946c8b82c8:getPixels\n",
      "point:  (0, 'Ontario', 'ON', 'corn', 147, -77.32844954, 44.27797623)\n",
      "season:  ('2019-09-01', '2019-09-30')\n",
      "url:  https://earthengine.googleapis.com/v1alpha/projects/earthengine-legacy/thumbnails/7ef6a8660c1ff5141236745cafc7be63-6d15d7e098b316571f1cd7e743e340e3:getPixels\n",
      "point:  (0, 'Ontario', 'ON', 'corn', 147, -77.32844954, 44.27797623)\n",
      "season:  ('2019-10-01', '2019-10-31')\n",
      "url:  https://earthengine.googleapis.com/v1alpha/projects/earthengine-legacy/thumbnails/5d4084726a726211e4df777d5353eae0-9173ebd03c77ce1e97cc4c9e500b238d:getPixels\n",
      "point:  (1, 'Ontario', 'ON', 'corn', 147, -77.37852316, 44.30095457)\n",
      "season:  ('2019-06-01', '2019-06-30')\n",
      "url:  https://earthengine.googleapis.com/v1alpha/projects/earthengine-legacy/thumbnails/01f0171dd76d85e4c0f1f550689e429e-d3ba9668cea7f5cef2921923b0a44079:getPixels\n",
      "point:  (1, 'Ontario', 'ON', 'corn', 147, -77.37852316, 44.30095457)\n",
      "season:  ('2019-07-01', '2019-07-31')\n",
      "url:  https://earthengine.googleapis.com/v1alpha/projects/earthengine-legacy/thumbnails/9fbde11921e392ffce41c25098652ad8-9095d6cdf0ecd98aa83b671a9586bcb1:getPixels\n",
      "point:  (1, 'Ontario', 'ON', 'corn', 147, -77.37852316, 44.30095457)\n",
      "season:  ('2019-08-01', '2019-08-31')\n",
      "url:  https://earthengine.googleapis.com/v1alpha/projects/earthengine-legacy/thumbnails/0e2676c282372febde1fe9d43df9ce7e-d9564443a482270e52af288f684e21a8:getPixels\n",
      "point:  (1, 'Ontario', 'ON', 'corn', 147, -77.37852316, 44.30095457)\n",
      "season:  ('2019-09-01', '2019-09-30')\n",
      "url:  https://earthengine.googleapis.com/v1alpha/projects/earthengine-legacy/thumbnails/f0b51ba7ad747be89cba7cdec8c17fb8-2ca3754ba7956961adb3fbe47c6ee86f:getPixels\n",
      "point:  (1, 'Ontario', 'ON', 'corn', 147, -77.37852316, 44.30095457)\n",
      "season:  ('2019-10-01', '2019-10-31')\n",
      "url:  https://earthengine.googleapis.com/v1alpha/projects/earthengine-legacy/thumbnails/db2874a9fc671974c4a31d25729532ab-f2e3aed244feb37e078b2cf2a9c5d303:getPixels\n",
      "point:  (2, 'Quebec', 'QC', 'corn', 147, -75.00974578, 45.16622162)\n",
      "season:  ('2019-06-01', '2019-06-30')\n",
      "url:  https://earthengine.googleapis.com/v1alpha/projects/earthengine-legacy/thumbnails/66824c3dc98ed648e60709a24b6b52bc-dd02d193087c2c39abd38e6fac00c2cf:getPixels\n",
      "point:  (2, 'Quebec', 'QC', 'corn', 147, -75.00974578, 45.16622162)\n",
      "season:  ('2019-07-01', '2019-07-31')\n",
      "url:  https://earthengine.googleapis.com/v1alpha/projects/earthengine-legacy/thumbnails/6c8fb40716cac465b00d7cd2447d4bb8-335c6679e346ff906c11c2e68d3f0efa:getPixels\n",
      "point:  (2, 'Quebec', 'QC', 'corn', 147, -75.00974578, 45.16622162)\n",
      "season:  ('2019-08-01', '2019-08-31')\n",
      "url:  https://earthengine.googleapis.com/v1alpha/projects/earthengine-legacy/thumbnails/2ee1d71cd83f6131e8d58869a057c755-64e0b2dfda9d8b33173d459cb2dc9afc:getPixels\n",
      "point:  (2, 'Quebec', 'QC', 'corn', 147, -75.00974578, 45.16622162)\n",
      "season:  ('2019-09-01', '2019-09-30')\n",
      "url:  https://earthengine.googleapis.com/v1alpha/projects/earthengine-legacy/thumbnails/fa6b31f5f08c6f1fabd533ce31f6c85e-64e98a1c8c9d7aec2784ebb05453567e:getPixels\n",
      "point:  (2, 'Quebec', 'QC', 'corn', 147, -75.00974578, 45.16622162)\n",
      "season:  ('2019-10-01', '2019-10-31')\n",
      "url:  https://earthengine.googleapis.com/v1alpha/projects/earthengine-legacy/thumbnails/7e3d66d5fc0a28896f383b122cc3bbdb-bcc3f2b8bd7fa7c9b1bea548e4dba5af:getPixels\n",
      "point:  (3, 'Quebec', 'QC', 'corn', 147, -74.99369555, 45.14719366)\n",
      "season:  ('2019-06-01', '2019-06-30')\n",
      "url:  https://earthengine.googleapis.com/v1alpha/projects/earthengine-legacy/thumbnails/0f9298b8e1167346c722393d34bb8df7-dfc89c3b69256a7588f7e4318863f461:getPixels\n",
      "point:  (3, 'Quebec', 'QC', 'corn', 147, -74.99369555, 45.14719366)\n",
      "season:  ('2019-07-01', '2019-07-31')\n",
      "url:  https://earthengine.googleapis.com/v1alpha/projects/earthengine-legacy/thumbnails/44c2d5d1c7c8bb0c9baa244bebfbb8f1-37d27555f6a8702c13d63f926f8b4618:getPixels\n",
      "point:  (3, 'Quebec', 'QC', 'corn', 147, -74.99369555, 45.14719366)\n",
      "season:  ('2019-08-01', '2019-08-31')\n",
      "url:  https://earthengine.googleapis.com/v1alpha/projects/earthengine-legacy/thumbnails/1a2966a684c9a0fc16296c8dfa5ba21c-0292b89d148aa39e66e17b3ef9b357f9:getPixels\n",
      "point:  (3, 'Quebec', 'QC', 'corn', 147, -74.99369555, 45.14719366)\n",
      "season:  ('2019-09-01', '2019-09-30')\n",
      "url:  https://earthengine.googleapis.com/v1alpha/projects/earthengine-legacy/thumbnails/6848048b98200fc7b028fa075076f776-39d41ec83466c480b5e248c999264b8a:getPixels\n",
      "point:  (3, 'Quebec', 'QC', 'corn', 147, -74.99369555, 45.14719366)\n",
      "season:  ('2019-10-01', '2019-10-31')\n",
      "url:  https://earthengine.googleapis.com/v1alpha/projects/earthengine-legacy/thumbnails/61a379af2f9f39a4a22fcc4ca26ad74b-016639c6fb7d5986db72bab450b07b2f:getPixels\n",
      "point:  (4, 'Quebec', 'QC', 'corn', 147, -74.44633007, 45.22942979)\n",
      "season:  ('2019-06-01', '2019-06-30')\n",
      "url:  https://earthengine.googleapis.com/v1alpha/projects/earthengine-legacy/thumbnails/c37a57d4993ec671d15f6bdd6c945645-318d0cd9d5ccb327e983ca4dcb8b88b0:getPixels\n",
      "point:  (4, 'Quebec', 'QC', 'corn', 147, -74.44633007, 45.22942979)\n",
      "season:  ('2019-07-01', '2019-07-31')\n",
      "url:  https://earthengine.googleapis.com/v1alpha/projects/earthengine-legacy/thumbnails/28f5c6f15f1b45ed708552b8f5514296-20951c3780992da00743b013dd6ac08b:getPixels\n",
      "point:  (4, 'Quebec', 'QC', 'corn', 147, -74.44633007, 45.22942979)\n",
      "season:  ('2019-08-01', '2019-08-31')\n",
      "url:  https://earthengine.googleapis.com/v1alpha/projects/earthengine-legacy/thumbnails/60f02ffa2c9e816a00f4bb7473389f9d-38d89b2e3a760fef666ef43d88a5bc53:getPixels\n",
      "point:  (4, 'Quebec', 'QC', 'corn', 147, -74.44633007, 45.22942979)\n",
      "season:  ('2019-09-01', '2019-09-30')\n",
      "url:  https://earthengine.googleapis.com/v1alpha/projects/earthengine-legacy/thumbnails/4c938c8f1a3afd5002a221174ae425c1-75339312c6723c2eed3ef4dd51651d93:getPixels\n",
      "point:  (4, 'Quebec', 'QC', 'corn', 147, -74.44633007, 45.22942979)\n",
      "season:  ('2019-10-01', '2019-10-31')\n",
      "url:  https://earthengine.googleapis.com/v1alpha/projects/earthengine-legacy/thumbnails/c86e1b27925090c35ffef64ad94e9da3-54e9d0f205168999cfcf8407e0af7c1e:getPixels\n"
     ]
    }
   ],
   "source": [
    "for i, point in enumerate(points):\n",
    "    ROI = makeRectangle([point[5], point[6]])\n",
    "    for j, season in enumerate(time_intervals):\n",
    "        image = obtain_image_sentinel2(season, ROI)\n",
    "        url = get_url(\"IMG_\"+str(point[0]), image, 10, ROI)\n",
    "        print(\"point: \", point)\n",
    "        print(\"season: \", season)\n",
    "        print(\"url: \", url)"
   ]
  },
  {
   "cell_type": "code",
   "execution_count": null,
   "id": "0a785a3f",
   "metadata": {},
   "outputs": [],
   "source": []
  }
 ],
 "metadata": {
  "kernelspec": {
   "display_name": "Python 3",
   "language": "python",
   "name": "python3"
  },
  "language_info": {
   "codemirror_mode": {
    "name": "ipython",
    "version": 3
   },
   "file_extension": ".py",
   "mimetype": "text/x-python",
   "name": "python",
   "nbconvert_exporter": "python",
   "pygments_lexer": "ipython3",
   "version": "3.9.4"
  }
 },
 "nbformat": 4,
 "nbformat_minor": 5
}
